{
 "cells": [
  {
   "cell_type": "markdown",
   "id": "747a6974",
   "metadata": {},
   "source": [
    "# Step 1"
   ]
  },
  {
   "cell_type": "markdown",
   "id": "f7d16205",
   "metadata": {},
   "source": [
    "## Import The Required Functions And Modules"
   ]
  },
  {
   "cell_type": "code",
   "execution_count": 1,
   "id": "80bd6ecb",
   "metadata": {},
   "outputs": [],
   "source": [
    "import glob                         # this module helps in selecting files \n",
    "import pandas as pd                 # this module helps in processing CSV files\n",
    "import xml.etree.ElementTree as ET  # this module helps in processing XML files.\n",
    "from datetime import datetime"
   ]
  },
  {
   "cell_type": "markdown",
   "id": "aac1a550",
   "metadata": {},
   "source": [
    "## Download The Source File From The Cloud"
   ]
  },
  {
   "cell_type": "code",
   "execution_count": 2,
   "id": "6d05538a",
   "metadata": {},
   "outputs": [],
   "source": [
    "#!wget https://cf-courses-data.s3.us.cloud-object-storage.appdomain.cloud/IBMDeveloperSkillsNetwork-PY0221EN-SkillsNetwork/labs/module%206/Lab%20-%20Extract%20Transform%20Load/data/datasource.zip\n"
   ]
  },
  {
   "cell_type": "markdown",
   "id": "44f55100",
   "metadata": {},
   "source": [
    "## Extract The Zip Files"
   ]
  },
  {
   "cell_type": "code",
   "execution_count": 3,
   "id": "b7cee0a1",
   "metadata": {},
   "outputs": [],
   "source": [
    "# nzip datasource.zip -d dealership_data\n",
    "\n",
    "import zipfile\n",
    "with zipfile.ZipFile('D:\\PycharmProjects\\GettingStartedWithSQL\\datasource.zip', 'r') as zip_ref:\n",
    "    zip_ref.extractall('D:\\PycharmProjects\\GettingStartedWithSQL\\dealership_data')"
   ]
  },
  {
   "cell_type": "markdown",
   "id": "c7ad63b9",
   "metadata": {},
   "source": [
    "## Set The Path For The Target Files"
   ]
  },
  {
   "cell_type": "code",
   "execution_count": 4,
   "id": "35d94b25",
   "metadata": {},
   "outputs": [],
   "source": [
    "tmpfile    = \"dealership_temp.tmp\"               # store all extracted data\n",
    "\n",
    "logfile    = \"dealership_logfile.txt\"            # all event logs will be stored\n",
    "\n",
    "targetfile = \"dealership_transformed_data.csv\"   # transformed data is stored"
   ]
  },
  {
   "cell_type": "markdown",
   "id": "d2ce026e",
   "metadata": {},
   "source": [
    "# Step 2"
   ]
  },
  {
   "cell_type": "markdown",
   "id": "d3642922",
   "metadata": {},
   "source": [
    "## EXTRACT"
   ]
  },
  {
   "cell_type": "markdown",
   "id": "43e051ce",
   "metadata": {},
   "source": [
    "## CSV Extract Function"
   ]
  },
  {
   "cell_type": "code",
   "execution_count": 1,
   "id": "468b033f",
   "metadata": {},
   "outputs": [],
   "source": [
    "def extract_from_csv(file_to_process): \n",
    "    dataframe = pd.read_csv(file_to_process) \n",
    "    return dataframe"
   ]
  },
  {
   "cell_type": "markdown",
   "id": "c0ebab99",
   "metadata": {},
   "source": [
    "## JSON Extract Function"
   ]
  },
  {
   "cell_type": "code",
   "execution_count": 6,
   "id": "f1e9f9e6",
   "metadata": {},
   "outputs": [],
   "source": [
    "def extract_from_json(file_to_process):\n",
    "    dataframe = pd.read_json(file_to_process,lines=True)\n",
    "    return dataframe"
   ]
  },
  {
   "cell_type": "markdown",
   "id": "d3da6fdc",
   "metadata": {},
   "source": [
    "## XML Extract Function"
   ]
  },
  {
   "cell_type": "code",
   "execution_count": 7,
   "id": "2bb962f7",
   "metadata": {},
   "outputs": [],
   "source": [
    "def extract_from_xml(file_to_process):\n",
    "\n",
    "    dataframe = pd.DataFrame(columns=['car_model','year_of_manufacture','price', 'fuel'])\n",
    "\n",
    "    tree = ET.parse(file_to_process) \n",
    "\n",
    "    root = tree.getroot() \n",
    "\n",
    "    for person in root: \n",
    "\n",
    "        car_model = person.find(\"car_model\").text \n",
    "\n",
    "        year_of_manufacture = int(person.find(\"year_of_manufacture\").text)\n",
    "\n",
    "        price = float(person.find(\"price\").text) \n",
    "\n",
    "        fuel = person.find(\"fuel\").text \n",
    "\n",
    "        dataframe = dataframe.append({\"car_model\":car_model, \"year_of_manufacture\":year_of_manufacture, \"price\":price, \"fuel\":fuel}, ignore_index=True) \n",
    "\n",
    "        return dataframe"
   ]
  },
  {
   "cell_type": "markdown",
   "id": "18bdb0a7",
   "metadata": {},
   "source": [
    "## Extract Function"
   ]
  },
  {
   "cell_type": "code",
   "execution_count": 8,
   "id": "709ab54c",
   "metadata": {},
   "outputs": [],
   "source": [
    "def extract():\n",
    "    extracted_data = pd.DataFrame(columns=['car_model','year_of_manufacture','price', 'fuel']) \n",
    "    #for csv files\n",
    "    for csvfile in glob.glob(\"dealership_data/*.csv\"):\n",
    "        extracted_data = extracted_data.append(extract_from_csv(csvfile), ignore_index=True)\n",
    "    #for json files\n",
    "    for jsonfile in glob.glob(\"dealership_data/*.json\"):\n",
    "        extracted_data = extracted_data.append(extract_from_json(jsonfile), ignore_index=True)\n",
    "    #for xml files\n",
    "    for xmlfile in glob.glob(\"dealership_data/*.xml\"):\n",
    "        extracted_data = extracted_data.append(extract_from_xml(xmlfile), ignore_index=True)\n",
    "    return extracted_data"
   ]
  },
  {
   "cell_type": "markdown",
   "id": "da5e3453",
   "metadata": {},
   "source": [
    "## Step 3"
   ]
  },
  {
   "cell_type": "markdown",
   "id": "5bcd4000",
   "metadata": {},
   "source": [
    "## Transform"
   ]
  },
  {
   "cell_type": "code",
   "execution_count": 9,
   "id": "1eb0e03e",
   "metadata": {},
   "outputs": [],
   "source": [
    "def transform(data):\n",
    "       data['price'] = round(data.price, 2)\n",
    "       return data"
   ]
  },
  {
   "cell_type": "markdown",
   "id": "e5d308fa",
   "metadata": {},
   "source": [
    "## Step 4"
   ]
  },
  {
   "cell_type": "markdown",
   "id": "5d45fb83",
   "metadata": {},
   "source": [
    "## Loading And Logging"
   ]
  },
  {
   "cell_type": "markdown",
   "id": "8acb60f9",
   "metadata": {},
   "source": [
    "## Load Function"
   ]
  },
  {
   "cell_type": "code",
   "execution_count": 10,
   "id": "0c2cf65d",
   "metadata": {},
   "outputs": [],
   "source": [
    "def load(targetfile,data_to_load):\n",
    "    data_to_load.to_csv(targetfile, index = False)"
   ]
  },
  {
   "cell_type": "markdown",
   "id": "fb164385",
   "metadata": {},
   "source": [
    "## Log Function"
   ]
  },
  {
   "cell_type": "code",
   "execution_count": 11,
   "id": "b557d39c",
   "metadata": {},
   "outputs": [],
   "source": [
    "def log(message):\n",
    "    timestamp_format = '%H:%M:%S-%h-%d-%Y'\n",
    "    #Hour-Minute-Second-MonthName-Day-Year\n",
    "    now = datetime.now() # get current timestamp\n",
    "    timestamp = now.strftime(timestamp_format)\n",
    "    with open(\"dealership_logfile.txt\",\"a\") as f: f.write(timestamp + ',' + message + 'n')"
   ]
  },
  {
   "cell_type": "markdown",
   "id": "0e8dc688",
   "metadata": {},
   "source": [
    "## Step 5"
   ]
  },
  {
   "cell_type": "markdown",
   "id": "1a40ee99",
   "metadata": {},
   "source": [
    "## Running The ETL Process"
   ]
  },
  {
   "cell_type": "code",
   "execution_count": 12,
   "id": "1e0d291f",
   "metadata": {},
   "outputs": [],
   "source": [
    "log(\"ETL Job Started\")"
   ]
  },
  {
   "cell_type": "code",
   "execution_count": 13,
   "id": "40d204b3",
   "metadata": {},
   "outputs": [],
   "source": [
    "log(\"Extract phase Started\")\n",
    "extracted_data = extract() \n",
    "log(\"Extract phase Ended\")"
   ]
  },
  {
   "cell_type": "code",
   "execution_count": 14,
   "id": "2dd3a707",
   "metadata": {},
   "outputs": [],
   "source": [
    "log('Transform phase Started')\n",
    "transformed_data = transform(extracted_data)\n",
    "log(\"Transform phase Ended\")"
   ]
  },
  {
   "cell_type": "code",
   "execution_count": 15,
   "id": "e69a2c11",
   "metadata": {},
   "outputs": [],
   "source": [
    "log(\"Load phase Started\")\n",
    "load(targetfile, transformed_data)\n",
    "log(\"Load phase Ended\")"
   ]
  },
  {
   "cell_type": "code",
   "execution_count": 16,
   "id": "5309ca68",
   "metadata": {},
   "outputs": [],
   "source": [
    "log(\"ETL Job Ended\")"
   ]
  },
  {
   "cell_type": "markdown",
   "id": "084d3f8b",
   "metadata": {},
   "source": [
    "## Loading Into The Database"
   ]
  },
  {
   "cell_type": "code",
   "execution_count": 17,
   "id": "fc5a581b",
   "metadata": {},
   "outputs": [
    {
     "data": {
      "text/html": [
       "<div>\n",
       "<style scoped>\n",
       "    .dataframe tbody tr th:only-of-type {\n",
       "        vertical-align: middle;\n",
       "    }\n",
       "\n",
       "    .dataframe tbody tr th {\n",
       "        vertical-align: top;\n",
       "    }\n",
       "\n",
       "    .dataframe thead th {\n",
       "        text-align: right;\n",
       "    }\n",
       "</style>\n",
       "<table border=\"1\" class=\"dataframe\">\n",
       "  <thead>\n",
       "    <tr style=\"text-align: right;\">\n",
       "      <th></th>\n",
       "      <th>car_model</th>\n",
       "      <th>year_of_manufacture</th>\n",
       "      <th>price</th>\n",
       "      <th>fuel</th>\n",
       "    </tr>\n",
       "  </thead>\n",
       "  <tbody>\n",
       "    <tr>\n",
       "      <th>0</th>\n",
       "      <td>ritz</td>\n",
       "      <td>2014</td>\n",
       "      <td>5000.00</td>\n",
       "      <td>Petrol</td>\n",
       "    </tr>\n",
       "    <tr>\n",
       "      <th>1</th>\n",
       "      <td>sx4</td>\n",
       "      <td>2013</td>\n",
       "      <td>7089.55</td>\n",
       "      <td>Diesel</td>\n",
       "    </tr>\n",
       "    <tr>\n",
       "      <th>2</th>\n",
       "      <td>ciaz</td>\n",
       "      <td>2017</td>\n",
       "      <td>10820.90</td>\n",
       "      <td>Petrol</td>\n",
       "    </tr>\n",
       "    <tr>\n",
       "      <th>3</th>\n",
       "      <td>wagon r</td>\n",
       "      <td>2011</td>\n",
       "      <td>4253.73</td>\n",
       "      <td>Petrol</td>\n",
       "    </tr>\n",
       "    <tr>\n",
       "      <th>4</th>\n",
       "      <td>swift</td>\n",
       "      <td>2014</td>\n",
       "      <td>6865.67</td>\n",
       "      <td>Diesel</td>\n",
       "    </tr>\n",
       "  </tbody>\n",
       "</table>\n",
       "</div>"
      ],
      "text/plain": [
       "  car_model  year_of_manufacture     price    fuel\n",
       "0      ritz                 2014   5000.00  Petrol\n",
       "1       sx4                 2013   7089.55  Diesel\n",
       "2      ciaz                 2017  10820.90  Petrol\n",
       "3   wagon r                 2011   4253.73  Petrol\n",
       "4     swift                 2014   6865.67  Diesel"
      ]
     },
     "execution_count": 17,
     "metadata": {},
     "output_type": "execute_result"
    }
   ],
   "source": [
    "import pandas as pd\n",
    "empdata = pd.read_csv('D:\\\\PycharmProjects\\\\GettingStartedWithSQL\\\\dealership_transformed_data.csv', index_col=False, delimiter = ',')\n",
    "empdata.head()"
   ]
  },
  {
   "cell_type": "code",
   "execution_count": 3,
   "id": "51a8b6b8",
   "metadata": {},
   "outputs": [],
   "source": [
    "import mysql.connector as msql\n",
    "from mysql.connector import Error\n",
    "import csv"
   ]
  },
  {
   "cell_type": "code",
   "execution_count": 22,
   "id": "48b5db8f",
   "metadata": {},
   "outputs": [
    {
     "name": "stdout",
     "output_type": "stream",
     "text": [
      "Database is created\n"
     ]
    }
   ],
   "source": [
    "try:\n",
    "    conn = msql.connect(host='localhost', user='root', password='')#give ur username, password\n",
    "    if conn.is_connected():\n",
    "        cursor = conn.cursor()\n",
    "        cursor.execute(\"CREATE DATABASE dealership_data\")\n",
    "        print(\"Database is created\")\n",
    "except Error as e:\n",
    "    print(\"Error while connecting to MySQL\", e)"
   ]
  },
  {
   "cell_type": "code",
   "execution_count": 23,
   "id": "dfe81511",
   "metadata": {},
   "outputs": [
    {
     "name": "stdout",
     "output_type": "stream",
     "text": [
      "Table is created\n"
     ]
    }
   ],
   "source": [
    "try:\n",
    "    conn = msql.connect(host='localhost', user='root', password='', database='dealership_data')#give ur username, password\n",
    "    if conn.is_connected():\n",
    "        cursor = conn.cursor()\n",
    "        cursor.execute(\"CREATE TABLE dealership(car_model varchar(255), year_of_manufacture int(4), price float(30), fuel varchar(255))\")\n",
    "        print(\"Table is created\")\n",
    "except Error as e:\n",
    "    print(\"Error while connecting to MySQL\", e)"
   ]
  },
  {
   "cell_type": "code",
   "execution_count": 6,
   "id": "d7b32e1d",
   "metadata": {},
   "outputs": [
    {
     "data": {
      "text/html": [
       "<div>\n",
       "<style scoped>\n",
       "    .dataframe tbody tr th:only-of-type {\n",
       "        vertical-align: middle;\n",
       "    }\n",
       "\n",
       "    .dataframe tbody tr th {\n",
       "        vertical-align: top;\n",
       "    }\n",
       "\n",
       "    .dataframe thead th {\n",
       "        text-align: right;\n",
       "    }\n",
       "</style>\n",
       "<table border=\"1\" class=\"dataframe\">\n",
       "  <thead>\n",
       "    <tr style=\"text-align: right;\">\n",
       "      <th></th>\n",
       "      <th>car_model</th>\n",
       "      <th>year_of_manufacture</th>\n",
       "      <th>price</th>\n",
       "      <th>fuel</th>\n",
       "    </tr>\n",
       "  </thead>\n",
       "  <tbody>\n",
       "    <tr>\n",
       "      <th>0</th>\n",
       "      <td>ritz</td>\n",
       "      <td>2014</td>\n",
       "      <td>5000.00</td>\n",
       "      <td>Petrol</td>\n",
       "    </tr>\n",
       "    <tr>\n",
       "      <th>1</th>\n",
       "      <td>sx4</td>\n",
       "      <td>2013</td>\n",
       "      <td>7089.55</td>\n",
       "      <td>Diesel</td>\n",
       "    </tr>\n",
       "    <tr>\n",
       "      <th>2</th>\n",
       "      <td>ciaz</td>\n",
       "      <td>2017</td>\n",
       "      <td>10820.90</td>\n",
       "      <td>Petrol</td>\n",
       "    </tr>\n",
       "    <tr>\n",
       "      <th>3</th>\n",
       "      <td>wagon r</td>\n",
       "      <td>2011</td>\n",
       "      <td>4253.73</td>\n",
       "      <td>Petrol</td>\n",
       "    </tr>\n",
       "    <tr>\n",
       "      <th>4</th>\n",
       "      <td>swift</td>\n",
       "      <td>2014</td>\n",
       "      <td>6865.67</td>\n",
       "      <td>Diesel</td>\n",
       "    </tr>\n",
       "  </tbody>\n",
       "</table>\n",
       "</div>"
      ],
      "text/plain": [
       "  car_model  year_of_manufacture     price    fuel\n",
       "0      ritz                 2014   5000.00  Petrol\n",
       "1       sx4                 2013   7089.55  Diesel\n",
       "2      ciaz                 2017  10820.90  Petrol\n",
       "3   wagon r                 2011   4253.73  Petrol\n",
       "4     swift                 2014   6865.67  Diesel"
      ]
     },
     "execution_count": 6,
     "metadata": {},
     "output_type": "execute_result"
    }
   ],
   "source": [
    "import pandas as pd\n",
    "dealership_data = pd.read_csv('D:\\\\PycharmProjects\\\\GettingStartedWithSQL\\\\dealership_transformed_data.csv', index_col=False, delimiter = ',')\n",
    "dealership_data.head()"
   ]
  },
  {
   "cell_type": "code",
   "execution_count": 50,
   "id": "4acf7140",
   "metadata": {},
   "outputs": [
    {
     "name": "stdout",
     "output_type": "stream",
     "text": [
      "('ritz', 2014, 5000.0, 'Petrol')\n",
      "INSERT INTO dealership_data.dealership(car_model, year_of_manufacture, price, fuel) VALUES ('ritz', 2014, 5000.0, 'Petrol') ('ritz', 2014, 5000.0, 'Petrol')\n",
      "Record inserted\n",
      "('sx4', 2013, 7089.55, 'Diesel')\n",
      "INSERT INTO dealership_data.dealership(car_model, year_of_manufacture, price, fuel) VALUES ('sx4', 2013, 7089.55, 'Diesel') ('sx4', 2013, 7089.55, 'Diesel')\n",
      "Record inserted\n",
      "('ciaz', 2017, 10820.9, 'Petrol')\n",
      "INSERT INTO dealership_data.dealership(car_model, year_of_manufacture, price, fuel) VALUES ('ciaz', 2017, 10820.9, 'Petrol') ('ciaz', 2017, 10820.9, 'Petrol')\n",
      "Record inserted\n",
      "('wagon r', 2011, 4253.73, 'Petrol')\n",
      "INSERT INTO dealership_data.dealership(car_model, year_of_manufacture, price, fuel) VALUES ('wagon r', 2011, 4253.73, 'Petrol') ('wagon r', 2011, 4253.73, 'Petrol')\n",
      "Record inserted\n",
      "('swift', 2014, 6865.67, 'Diesel')\n",
      "INSERT INTO dealership_data.dealership(car_model, year_of_manufacture, price, fuel) VALUES ('swift', 2014, 6865.67, 'Diesel') ('swift', 2014, 6865.67, 'Diesel')\n",
      "Record inserted\n",
      "('vitara brezza', 2018, 13805.97, 'Diesel')\n",
      "INSERT INTO dealership_data.dealership(car_model, year_of_manufacture, price, fuel) VALUES ('vitara brezza', 2018, 13805.97, 'Diesel') ('vitara brezza', 2018, 13805.97, 'Diesel')\n",
      "Record inserted\n",
      "('ciaz', 2015, 10074.63, 'Petrol')\n",
      "INSERT INTO dealership_data.dealership(car_model, year_of_manufacture, price, fuel) VALUES ('ciaz', 2015, 10074.63, 'Petrol') ('ciaz', 2015, 10074.63, 'Petrol')\n",
      "Record inserted\n",
      "('s cross', 2015, 9701.49, 'Diesel')\n",
      "INSERT INTO dealership_data.dealership(car_model, year_of_manufacture, price, fuel) VALUES ('s cross', 2015, 9701.49, 'Diesel') ('s cross', 2015, 9701.49, 'Diesel')\n",
      "Record inserted\n",
      "('ciaz', 2016, 13059.7, 'Diesel')\n",
      "INSERT INTO dealership_data.dealership(car_model, year_of_manufacture, price, fuel) VALUES ('ciaz', 2016, 13059.7, 'Diesel') ('ciaz', 2016, 13059.7, 'Diesel')\n",
      "Record inserted\n",
      "('ciaz', 2015, 11119.4, 'Diesel')\n",
      "INSERT INTO dealership_data.dealership(car_model, year_of_manufacture, price, fuel) VALUES ('ciaz', 2015, 11119.4, 'Diesel') ('ciaz', 2015, 11119.4, 'Diesel')\n",
      "Record inserted\n",
      "('alto 800', 2017, 4253.73, 'Petrol')\n",
      "INSERT INTO dealership_data.dealership(car_model, year_of_manufacture, price, fuel) VALUES ('alto 800', 2017, 4253.73, 'Petrol') ('alto 800', 2017, 4253.73, 'Petrol')\n",
      "Record inserted\n",
      "('ciaz', 2015, 10223.88, 'Diesel')\n",
      "INSERT INTO dealership_data.dealership(car_model, year_of_manufacture, price, fuel) VALUES ('ciaz', 2015, 10223.88, 'Diesel') ('ciaz', 2015, 10223.88, 'Diesel')\n",
      "Record inserted\n",
      "('ciaz', 2015, 11194.03, 'Petrol')\n",
      "INSERT INTO dealership_data.dealership(car_model, year_of_manufacture, price, fuel) VALUES ('ciaz', 2015, 11194.03, 'Petrol') ('ciaz', 2015, 11194.03, 'Petrol')\n",
      "Record inserted\n",
      "('ertiga', 2015, 9104.48, 'Petrol')\n",
      "INSERT INTO dealership_data.dealership(car_model, year_of_manufacture, price, fuel) VALUES ('ertiga', 2015, 9104.48, 'Petrol') ('ertiga', 2015, 9104.48, 'Petrol')\n",
      "Record inserted\n",
      "('dzire', 2009, 3358.21, 'Petrol')\n",
      "INSERT INTO dealership_data.dealership(car_model, year_of_manufacture, price, fuel) VALUES ('dzire', 2009, 3358.21, 'Petrol') ('dzire', 2009, 3358.21, 'Petrol')\n",
      "Record inserted\n",
      "('ertiga', 2016, 11567.16, 'Diesel')\n",
      "INSERT INTO dealership_data.dealership(car_model, year_of_manufacture, price, fuel) VALUES ('ertiga', 2016, 11567.16, 'Diesel') ('ertiga', 2016, 11567.16, 'Diesel')\n",
      "Record inserted\n",
      "('ertiga', 2015, 10820.9, 'Diesel')\n",
      "INSERT INTO dealership_data.dealership(car_model, year_of_manufacture, price, fuel) VALUES ('ertiga', 2015, 10820.9, 'Diesel') ('ertiga', 2015, 10820.9, 'Diesel')\n",
      "Record inserted\n",
      "('ertiga', 2016, 11567.16, 'Diesel')\n",
      "INSERT INTO dealership_data.dealership(car_model, year_of_manufacture, price, fuel) VALUES ('ertiga', 2016, 11567.16, 'Diesel') ('ertiga', 2016, 11567.16, 'Diesel')\n",
      "Record inserted\n",
      "('wagon r', 2015, 4850.75, 'CNG')\n",
      "INSERT INTO dealership_data.dealership(car_model, year_of_manufacture, price, fuel) VALUES ('wagon r', 2015, 4850.75, 'CNG') ('wagon r', 2015, 4850.75, 'CNG')\n",
      "Record inserted\n",
      "('sx4', 2010, 3955.22, 'Petrol')\n",
      "INSERT INTO dealership_data.dealership(car_model, year_of_manufacture, price, fuel) VALUES ('sx4', 2010, 3955.22, 'Petrol') ('sx4', 2010, 3955.22, 'Petrol')\n",
      "Record inserted\n",
      "('alto k10', 2016, 4253.73, 'Petrol')\n",
      "INSERT INTO dealership_data.dealership(car_model, year_of_manufacture, price, fuel) VALUES ('alto k10', 2016, 4253.73, 'Petrol') ('alto k10', 2016, 4253.73, 'Petrol')\n",
      "Record inserted\n",
      "('ignis', 2017, 7313.43, 'Petrol')\n",
      "INSERT INTO dealership_data.dealership(car_model, year_of_manufacture, price, fuel) VALUES ('ignis', 2017, 7313.43, 'Petrol') ('ignis', 2017, 7313.43, 'Petrol')\n",
      "Record inserted\n",
      "('sx4', 2011, 6567.16, 'Petrol')\n",
      "INSERT INTO dealership_data.dealership(car_model, year_of_manufacture, price, fuel) VALUES ('sx4', 2011, 6567.16, 'Petrol') ('sx4', 2011, 6567.16, 'Petrol')\n",
      "Record inserted\n",
      "('alto k10', 2014, 3731.34, 'Petrol')\n",
      "INSERT INTO dealership_data.dealership(car_model, year_of_manufacture, price, fuel) VALUES ('alto k10', 2014, 3731.34, 'Petrol') ('alto k10', 2014, 3731.34, 'Petrol')\n",
      "Record inserted\n",
      "('wagon r', 2013, 4328.36, 'Petrol')\n",
      "INSERT INTO dealership_data.dealership(car_model, year_of_manufacture, price, fuel) VALUES ('wagon r', 2013, 4328.36, 'Petrol') ('wagon r', 2013, 4328.36, 'Petrol')\n",
      "Record inserted\n",
      "('swift', 2011, 4477.61, 'Petrol')\n",
      "INSERT INTO dealership_data.dealership(car_model, year_of_manufacture, price, fuel) VALUES ('swift', 2011, 4477.61, 'Petrol') ('swift', 2011, 4477.61, 'Petrol')\n",
      "Record inserted\n",
      "('swift', 2013, 6194.03, 'Petrol')\n",
      "INSERT INTO dealership_data.dealership(car_model, year_of_manufacture, price, fuel) VALUES ('swift', 2013, 6194.03, 'Petrol') ('swift', 2013, 6194.03, 'Petrol')\n",
      "Record inserted\n",
      "('swift', 2017, 8955.22, 'Petrol')\n",
      "INSERT INTO dealership_data.dealership(car_model, year_of_manufacture, price, fuel) VALUES ('swift', 2017, 8955.22, 'Petrol') ('swift', 2017, 8955.22, 'Petrol')\n",
      "Record inserted\n",
      "('alto k10', 2010, 2910.45, 'Petrol')\n",
      "INSERT INTO dealership_data.dealership(car_model, year_of_manufacture, price, fuel) VALUES ('alto k10', 2010, 2910.45, 'Petrol') ('alto k10', 2010, 2910.45, 'Petrol')\n",
      "Record inserted\n",
      "('ciaz', 2015, 11119.4, 'Diesel')\n",
      "INSERT INTO dealership_data.dealership(car_model, year_of_manufacture, price, fuel) VALUES ('ciaz', 2015, 11119.4, 'Diesel') ('ciaz', 2015, 11119.4, 'Diesel')\n",
      "Record inserted\n",
      "('ritz', 2012, 4626.87, 'Diesel')\n",
      "INSERT INTO dealership_data.dealership(car_model, year_of_manufacture, price, fuel) VALUES ('ritz', 2012, 4626.87, 'Diesel') ('ritz', 2012, 4626.87, 'Diesel')\n",
      "Record inserted\n",
      "('ritz', 2011, 3507.46, 'Petrol')\n",
      "INSERT INTO dealership_data.dealership(car_model, year_of_manufacture, price, fuel) VALUES ('ritz', 2011, 3507.46, 'Petrol') ('ritz', 2011, 3507.46, 'Petrol')\n",
      "Record inserted\n",
      "('swift', 2014, 7388.06, 'Diesel')\n",
      "INSERT INTO dealership_data.dealership(car_model, year_of_manufacture, price, fuel) VALUES ('swift', 2014, 7388.06, 'Diesel') ('swift', 2014, 7388.06, 'Diesel')\n",
      "Record inserted\n",
      "('ertiga', 2014, 8955.22, 'Diesel')\n",
      "INSERT INTO dealership_data.dealership(car_model, year_of_manufacture, price, fuel) VALUES ('ertiga', 2014, 8955.22, 'Diesel') ('ertiga', 2014, 8955.22, 'Diesel')\n",
      "Record inserted\n",
      "('dzire', 2014, 8208.96, 'Diesel')\n",
      "INSERT INTO dealership_data.dealership(car_model, year_of_manufacture, price, fuel) VALUES ('dzire', 2014, 8208.96, 'Diesel') ('dzire', 2014, 8208.96, 'Diesel')\n",
      "Record inserted\n",
      "('sx4', 2011, 4402.99, 'CNG')\n",
      "INSERT INTO dealership_data.dealership(car_model, year_of_manufacture, price, fuel) VALUES ('sx4', 2011, 4402.99, 'CNG') ('sx4', 2011, 4402.99, 'CNG')\n",
      "Record inserted\n",
      "('dzire', 2015, 6940.3, 'Petrol')\n",
      "INSERT INTO dealership_data.dealership(car_model, year_of_manufacture, price, fuel) VALUES ('dzire', 2015, 6940.3, 'Petrol') ('dzire', 2015, 6940.3, 'Petrol')\n",
      "Record inserted\n",
      "('800', 2003, 522.39, 'Petrol')\n",
      "INSERT INTO dealership_data.dealership(car_model, year_of_manufacture, price, fuel) VALUES ('800', 2003, 522.39, 'Petrol') ('800', 2003, 522.39, 'Petrol')\n",
      "Record inserted\n",
      "('alto k10', 2016, 4477.61, 'Petrol')\n",
      "INSERT INTO dealership_data.dealership(car_model, year_of_manufacture, price, fuel) VALUES ('alto k10', 2016, 4477.61, 'Petrol') ('alto k10', 2016, 4477.61, 'Petrol')\n",
      "Record inserted\n",
      "('sx4', 2003, 3358.21, 'Petrol')\n",
      "INSERT INTO dealership_data.dealership(car_model, year_of_manufacture, price, fuel) VALUES ('sx4', 2003, 3358.21, 'Petrol') ('sx4', 2003, 3358.21, 'Petrol')\n",
      "Record inserted\n",
      "('baleno', 2016, 8731.34, 'Petrol')\n",
      "INSERT INTO dealership_data.dealership(car_model, year_of_manufacture, price, fuel) VALUES ('baleno', 2016, 8731.34, 'Petrol') ('baleno', 2016, 8731.34, 'Petrol')\n",
      "Record inserted\n",
      "('alto k10', 2014, 3805.97, 'Petrol')\n",
      "INSERT INTO dealership_data.dealership(car_model, year_of_manufacture, price, fuel) VALUES ('alto k10', 2014, 3805.97, 'Petrol') ('alto k10', 2014, 3805.97, 'Petrol')\n",
      "Record inserted\n",
      "('sx4', 2008, 2910.45, 'Petrol')\n",
      "INSERT INTO dealership_data.dealership(car_model, year_of_manufacture, price, fuel) VALUES ('sx4', 2008, 2910.45, 'Petrol') ('sx4', 2008, 2910.45, 'Petrol')\n",
      "Record inserted\n",
      "('dzire', 2014, 8208.96, 'Diesel')\n",
      "INSERT INTO dealership_data.dealership(car_model, year_of_manufacture, price, fuel) VALUES ('dzire', 2014, 8208.96, 'Diesel') ('dzire', 2014, 8208.96, 'Diesel')\n",
      "Record inserted\n"
     ]
    },
    {
     "name": "stdout",
     "output_type": "stream",
     "text": [
      "('omni', 2012, 1865.67, 'Petrol')\n",
      "INSERT INTO dealership_data.dealership(car_model, year_of_manufacture, price, fuel) VALUES ('omni', 2012, 1865.67, 'Petrol') ('omni', 2012, 1865.67, 'Petrol')\n",
      "Record inserted\n",
      "('ciaz', 2014, 11194.03, 'Petrol')\n",
      "INSERT INTO dealership_data.dealership(car_model, year_of_manufacture, price, fuel) VALUES ('ciaz', 2014, 11194.03, 'Petrol') ('ciaz', 2014, 11194.03, 'Petrol')\n",
      "Record inserted\n",
      "('ritz', 2013, 3955.22, 'Petrol')\n",
      "INSERT INTO dealership_data.dealership(car_model, year_of_manufacture, price, fuel) VALUES ('ritz', 2013, 3955.22, 'Petrol') ('ritz', 2013, 3955.22, 'Petrol')\n",
      "Record inserted\n",
      "('wagon r', 2006, 1567.16, 'Petrol')\n",
      "INSERT INTO dealership_data.dealership(car_model, year_of_manufacture, price, fuel) VALUES ('wagon r', 2006, 1567.16, 'Petrol') ('wagon r', 2006, 1567.16, 'Petrol')\n",
      "Record inserted\n",
      "('ertiga', 2015, 8656.72, 'Petrol')\n",
      "INSERT INTO dealership_data.dealership(car_model, year_of_manufacture, price, fuel) VALUES ('ertiga', 2015, 8656.72, 'Petrol') ('ertiga', 2015, 8656.72, 'Petrol')\n",
      "Record inserted\n",
      "('ciaz', 2017, 11567.16, 'Petrol')\n",
      "INSERT INTO dealership_data.dealership(car_model, year_of_manufacture, price, fuel) VALUES ('ciaz', 2017, 11567.16, 'Petrol') ('ciaz', 2017, 11567.16, 'Petrol')\n",
      "Record inserted\n",
      "('fortuner', 2012, 22238.81, 'Diesel')\n",
      "INSERT INTO dealership_data.dealership(car_model, year_of_manufacture, price, fuel) VALUES ('fortuner', 2012, 22238.81, 'Diesel') ('fortuner', 2012, 22238.81, 'Diesel')\n",
      "Record inserted\n",
      "('fortuner', 2015, 34328.36, 'Diesel')\n",
      "INSERT INTO dealership_data.dealership(car_model, year_of_manufacture, price, fuel) VALUES ('fortuner', 2015, 34328.36, 'Diesel') ('fortuner', 2015, 34328.36, 'Diesel')\n",
      "Record inserted\n",
      "('innova', 2017, 26865.67, 'Diesel')\n",
      "INSERT INTO dealership_data.dealership(car_model, year_of_manufacture, price, fuel) VALUES ('innova', 2017, 26865.67, 'Diesel') ('innova', 2017, 26865.67, 'Diesel')\n",
      "Record inserted\n",
      "('fortuner', 2013, 23880.6, 'Diesel')\n",
      "INSERT INTO dealership_data.dealership(car_model, year_of_manufacture, price, fuel) VALUES ('fortuner', 2013, 23880.6, 'Diesel') ('fortuner', 2013, 23880.6, 'Diesel')\n",
      "Record inserted\n",
      "('innova', 2005, 4104.48, 'Petrol')\n",
      "INSERT INTO dealership_data.dealership(car_model, year_of_manufacture, price, fuel) VALUES ('innova', 2005, 4104.48, 'Petrol') ('innova', 2005, 4104.48, 'Petrol')\n",
      "Record inserted\n",
      "('corolla altis', 2009, 5373.13, 'Petrol')\n",
      "INSERT INTO dealership_data.dealership(car_model, year_of_manufacture, price, fuel) VALUES ('corolla altis', 2009, 5373.13, 'Petrol') ('corolla altis', 2009, 5373.13, 'Petrol')\n",
      "Record inserted\n",
      "('etios cross', 2015, 6716.42, 'Petrol')\n",
      "INSERT INTO dealership_data.dealership(car_model, year_of_manufacture, price, fuel) VALUES ('etios cross', 2015, 6716.42, 'Petrol') ('etios cross', 2015, 6716.42, 'Petrol')\n",
      "Record inserted\n",
      "('corolla altis', 2010, 7089.55, 'Petrol')\n",
      "INSERT INTO dealership_data.dealership(car_model, year_of_manufacture, price, fuel) VALUES ('corolla altis', 2010, 7089.55, 'Petrol') ('corolla altis', 2010, 7089.55, 'Petrol')\n",
      "Record inserted\n",
      "('etios g', 2014, 6119.4, 'Petrol')\n",
      "INSERT INTO dealership_data.dealership(car_model, year_of_manufacture, price, fuel) VALUES ('etios g', 2014, 6119.4, 'Petrol') ('etios g', 2014, 6119.4, 'Petrol')\n",
      "Record inserted\n",
      "('fortuner', 2014, 29835.82, 'Diesel')\n",
      "INSERT INTO dealership_data.dealership(car_model, year_of_manufacture, price, fuel) VALUES ('fortuner', 2014, 29835.82, 'Diesel') ('fortuner', 2014, 29835.82, 'Diesel')\n",
      "Record inserted\n",
      "('corolla altis', 2013, 10373.13, 'Petrol')\n",
      "INSERT INTO dealership_data.dealership(car_model, year_of_manufacture, price, fuel) VALUES ('corolla altis', 2013, 10373.13, 'Petrol') ('corolla altis', 2013, 10373.13, 'Petrol')\n",
      "Record inserted\n",
      "('etios liva', 2014, 5895.52, 'Diesel')\n",
      "INSERT INTO dealership_data.dealership(car_model, year_of_manufacture, price, fuel) VALUES ('etios liva', 2014, 5895.52, 'Diesel') ('etios liva', 2014, 5895.52, 'Diesel')\n",
      "Record inserted\n",
      "('corolla altis', 2016, 21985.07, 'Diesel')\n",
      "INSERT INTO dealership_data.dealership(car_model, year_of_manufacture, price, fuel) VALUES ('corolla altis', 2016, 21985.07, 'Diesel') ('corolla altis', 2016, 21985.07, 'Diesel')\n",
      "Record inserted\n"
     ]
    }
   ],
   "source": [
    "try:\n",
    "    conn = msql.connect(host='localhost', user='root', password='', database='dealership_data')#give ur username, password\n",
    "    if conn.is_connected():\n",
    "        cursor = conn.cursor()\n",
    "        for i,row in dealership_data.iterrows():\n",
    "#             print(i, row)\n",
    "#             print(row)\n",
    "            print(tuple(row))\n",
    "            sql = f\"INSERT INTO dealership_data.dealership(car_model, year_of_manufacture, price, fuel) VALUES {tuple(row)}\"\n",
    "            print(sql,tuple(row))\n",
    "            cursor.execute(sql)\n",
    "            print(\"Record inserted\")\n",
    "            conn.commit()\n",
    "except Error as e:\n",
    "    print(\"Error while connecting to MySQL\", e)"
   ]
  },
  {
   "cell_type": "code",
   "execution_count": 29,
   "id": "b9be293f",
   "metadata": {},
   "outputs": [
    {
     "data": {
      "text/plain": [
       "car_model               object\n",
       "year_of_manufacture      int64\n",
       "price                  float64\n",
       "fuel                    object\n",
       "dtype: object"
      ]
     },
     "execution_count": 29,
     "metadata": {},
     "output_type": "execute_result"
    }
   ],
   "source": [
    "dealership_data.dtypes\n"
   ]
  },
  {
   "cell_type": "code",
   "execution_count": 51,
   "id": "91b7001d",
   "metadata": {},
   "outputs": [
    {
     "name": "stdout",
     "output_type": "stream",
     "text": [
      "('ritz', 2014, 5000.0, 'Petrol')\n",
      "('sx4', 2013, 7089.55, 'Diesel')\n",
      "('ciaz', 2017, 10820.9, 'Petrol')\n",
      "('wagon r', 2011, 4253.73, 'Petrol')\n",
      "('swift', 2014, 6865.67, 'Diesel')\n",
      "('vitara brezza', 2018, 13805.97, 'Diesel')\n",
      "('ciaz', 2015, 10074.63, 'Petrol')\n",
      "('s cross', 2015, 9701.49, 'Diesel')\n",
      "('ciaz', 2016, 13059.7, 'Diesel')\n",
      "('ciaz', 2015, 11119.4, 'Diesel')\n",
      "('alto 800', 2017, 4253.73, 'Petrol')\n",
      "('ciaz', 2015, 10223.88, 'Diesel')\n",
      "('ciaz', 2015, 11194.03, 'Petrol')\n",
      "('ertiga', 2015, 9104.48, 'Petrol')\n",
      "('dzire', 2009, 3358.21, 'Petrol')\n",
      "('ertiga', 2016, 11567.16, 'Diesel')\n",
      "('ertiga', 2015, 10820.9, 'Diesel')\n",
      "('ertiga', 2016, 11567.16, 'Diesel')\n",
      "('wagon r', 2015, 4850.75, 'CNG')\n",
      "('sx4', 2010, 3955.22, 'Petrol')\n",
      "('alto k10', 2016, 4253.73, 'Petrol')\n",
      "('ignis', 2017, 7313.43, 'Petrol')\n",
      "('sx4', 2011, 6567.16, 'Petrol')\n",
      "('alto k10', 2014, 3731.34, 'Petrol')\n",
      "('wagon r', 2013, 4328.36, 'Petrol')\n",
      "('swift', 2011, 4477.61, 'Petrol')\n",
      "('swift', 2013, 6194.03, 'Petrol')\n",
      "('swift', 2017, 8955.22, 'Petrol')\n",
      "('alto k10', 2010, 2910.45, 'Petrol')\n",
      "('ciaz', 2015, 11119.4, 'Diesel')\n",
      "('ritz', 2012, 4626.87, 'Diesel')\n",
      "('ritz', 2011, 3507.46, 'Petrol')\n",
      "('swift', 2014, 7388.06, 'Diesel')\n",
      "('ertiga', 2014, 8955.22, 'Diesel')\n",
      "('dzire', 2014, 8208.96, 'Diesel')\n",
      "('sx4', 2011, 4402.99, 'CNG')\n",
      "('dzire', 2015, 6940.3, 'Petrol')\n",
      "('800', 2003, 522.39, 'Petrol')\n",
      "('alto k10', 2016, 4477.61, 'Petrol')\n",
      "('sx4', 2003, 3358.21, 'Petrol')\n",
      "('baleno', 2016, 8731.34, 'Petrol')\n",
      "('alto k10', 2014, 3805.97, 'Petrol')\n",
      "('sx4', 2008, 2910.45, 'Petrol')\n",
      "('dzire', 2014, 8208.96, 'Diesel')\n",
      "('omni', 2012, 1865.67, 'Petrol')\n",
      "('ciaz', 2014, 11194.03, 'Petrol')\n",
      "('ritz', 2013, 3955.22, 'Petrol')\n",
      "('wagon r', 2006, 1567.16, 'Petrol')\n",
      "('ertiga', 2015, 8656.72, 'Petrol')\n",
      "('ciaz', 2017, 11567.16, 'Petrol')\n",
      "('fortuner', 2012, 22238.81, 'Diesel')\n",
      "('fortuner', 2015, 34328.36, 'Diesel')\n",
      "('innova', 2017, 26865.67, 'Diesel')\n",
      "('fortuner', 2013, 23880.6, 'Diesel')\n",
      "('innova', 2005, 4104.48, 'Petrol')\n",
      "('corolla altis', 2009, 5373.13, 'Petrol')\n",
      "('etios cross', 2015, 6716.42, 'Petrol')\n",
      "('corolla altis', 2010, 7089.55, 'Petrol')\n",
      "('etios g', 2014, 6119.4, 'Petrol')\n",
      "('fortuner', 2014, 29835.82, 'Diesel')\n",
      "('corolla altis', 2013, 10373.13, 'Petrol')\n",
      "('etios liva', 2014, 5895.52, 'Diesel')\n",
      "('corolla altis', 2016, 21985.07, 'Diesel')\n"
     ]
    }
   ],
   "source": [
    "# Execute query\n",
    "sql = \"SELECT * FROM dealership_data.dealership\"\n",
    "cursor.execute(sql)\n",
    "# Fetch all the records\n",
    "result = cursor.fetchall()\n",
    "for i in result:\n",
    "    print(i)"
   ]
  },
  {
   "cell_type": "code",
   "execution_count": 7,
   "id": "3da3e098",
   "metadata": {},
   "outputs": [
    {
     "name": "stdout",
     "output_type": "stream",
     "text": [
      "Record inserted\n",
      "Record inserted\n",
      "Record inserted\n",
      "Record inserted\n",
      "Record inserted\n",
      "Record inserted\n",
      "Record inserted\n",
      "Record inserted\n",
      "Record inserted\n",
      "Record inserted\n",
      "Record inserted\n",
      "Record inserted\n",
      "Record inserted\n",
      "Record inserted\n",
      "Record inserted\n",
      "Record inserted\n",
      "Record inserted\n",
      "Record inserted\n",
      "Record inserted\n",
      "Record inserted\n",
      "Record inserted\n",
      "Record inserted\n",
      "Record inserted\n",
      "Record inserted\n",
      "Record inserted\n",
      "Record inserted\n",
      "Record inserted\n",
      "Record inserted\n",
      "Record inserted\n",
      "Record inserted\n",
      "Record inserted\n",
      "Record inserted\n",
      "Record inserted\n",
      "Record inserted\n",
      "Record inserted\n",
      "Record inserted\n",
      "Record inserted\n",
      "Record inserted\n",
      "Record inserted\n",
      "Record inserted\n",
      "Record inserted\n",
      "Record inserted\n",
      "Record inserted\n",
      "Record inserted\n",
      "Record inserted\n",
      "Record inserted\n",
      "Record inserted\n",
      "Record inserted\n",
      "Record inserted\n",
      "Record inserted\n",
      "Record inserted\n",
      "Record inserted\n",
      "Record inserted\n",
      "Record inserted\n",
      "Record inserted\n",
      "Record inserted\n",
      "Record inserted\n",
      "Record inserted\n",
      "Record inserted\n",
      "Record inserted\n",
      "Record inserted\n",
      "Record inserted\n",
      "Record inserted\n"
     ]
    }
   ],
   "source": [
    "try:\n",
    "    conn = msql.connect(host='localhost', database='dealership_data', user='root', password='')\n",
    "    if conn.is_connected():\n",
    "        cursor = conn.cursor()\n",
    "        for i,row in dealership_data.iterrows():\n",
    "            #here %S means string values \n",
    "            sql = \"INSERT INTO dealership_data.dealership VALUES (%s,%s,%s,%s)\"\n",
    "            cursor.execute(sql, tuple(row))\n",
    "            print(\"Record inserted\")\n",
    "            # the connection is not auto committed by default, so we must commit to save our changes\n",
    "            conn.commit()\n",
    "except Error as e:\n",
    "            print(\"Error while connecting to MySQL\", e)"
   ]
  },
  {
   "cell_type": "code",
   "execution_count": 8,
   "id": "1d6fc171",
   "metadata": {},
   "outputs": [
    {
     "name": "stdout",
     "output_type": "stream",
     "text": [
      "('ritz', 2014, 5000.0, 'Petrol')\n",
      "('sx4', 2013, 7089.55, 'Diesel')\n",
      "('ciaz', 2017, 10820.9, 'Petrol')\n",
      "('wagon r', 2011, 4253.73, 'Petrol')\n",
      "('swift', 2014, 6865.67, 'Diesel')\n",
      "('vitara brezza', 2018, 13805.97, 'Diesel')\n",
      "('ciaz', 2015, 10074.63, 'Petrol')\n",
      "('s cross', 2015, 9701.49, 'Diesel')\n",
      "('ciaz', 2016, 13059.7, 'Diesel')\n",
      "('ciaz', 2015, 11119.4, 'Diesel')\n",
      "('alto 800', 2017, 4253.73, 'Petrol')\n",
      "('ciaz', 2015, 10223.88, 'Diesel')\n",
      "('ciaz', 2015, 11194.03, 'Petrol')\n",
      "('ertiga', 2015, 9104.48, 'Petrol')\n",
      "('dzire', 2009, 3358.21, 'Petrol')\n",
      "('ertiga', 2016, 11567.16, 'Diesel')\n",
      "('ertiga', 2015, 10820.9, 'Diesel')\n",
      "('ertiga', 2016, 11567.16, 'Diesel')\n",
      "('wagon r', 2015, 4850.75, 'CNG')\n",
      "('sx4', 2010, 3955.22, 'Petrol')\n",
      "('alto k10', 2016, 4253.73, 'Petrol')\n",
      "('ignis', 2017, 7313.43, 'Petrol')\n",
      "('sx4', 2011, 6567.16, 'Petrol')\n",
      "('alto k10', 2014, 3731.34, 'Petrol')\n",
      "('wagon r', 2013, 4328.36, 'Petrol')\n",
      "('swift', 2011, 4477.61, 'Petrol')\n",
      "('swift', 2013, 6194.03, 'Petrol')\n",
      "('swift', 2017, 8955.22, 'Petrol')\n",
      "('alto k10', 2010, 2910.45, 'Petrol')\n",
      "('ciaz', 2015, 11119.4, 'Diesel')\n",
      "('ritz', 2012, 4626.87, 'Diesel')\n",
      "('ritz', 2011, 3507.46, 'Petrol')\n",
      "('swift', 2014, 7388.06, 'Diesel')\n",
      "('ertiga', 2014, 8955.22, 'Diesel')\n",
      "('dzire', 2014, 8208.96, 'Diesel')\n",
      "('sx4', 2011, 4402.99, 'CNG')\n",
      "('dzire', 2015, 6940.3, 'Petrol')\n",
      "('800', 2003, 522.39, 'Petrol')\n",
      "('alto k10', 2016, 4477.61, 'Petrol')\n",
      "('sx4', 2003, 3358.21, 'Petrol')\n",
      "('baleno', 2016, 8731.34, 'Petrol')\n",
      "('alto k10', 2014, 3805.97, 'Petrol')\n",
      "('sx4', 2008, 2910.45, 'Petrol')\n",
      "('dzire', 2014, 8208.96, 'Diesel')\n",
      "('omni', 2012, 1865.67, 'Petrol')\n",
      "('ciaz', 2014, 11194.03, 'Petrol')\n",
      "('ritz', 2013, 3955.22, 'Petrol')\n",
      "('wagon r', 2006, 1567.16, 'Petrol')\n",
      "('ertiga', 2015, 8656.72, 'Petrol')\n",
      "('ciaz', 2017, 11567.16, 'Petrol')\n",
      "('fortuner', 2012, 22238.81, 'Diesel')\n",
      "('fortuner', 2015, 34328.36, 'Diesel')\n",
      "('innova', 2017, 26865.67, 'Diesel')\n",
      "('fortuner', 2013, 23880.6, 'Diesel')\n",
      "('innova', 2005, 4104.48, 'Petrol')\n",
      "('corolla altis', 2009, 5373.13, 'Petrol')\n",
      "('etios cross', 2015, 6716.42, 'Petrol')\n",
      "('corolla altis', 2010, 7089.55, 'Petrol')\n",
      "('etios g', 2014, 6119.4, 'Petrol')\n",
      "('fortuner', 2014, 29835.82, 'Diesel')\n",
      "('corolla altis', 2013, 10373.13, 'Petrol')\n",
      "('etios liva', 2014, 5895.52, 'Diesel')\n",
      "('corolla altis', 2016, 21985.07, 'Diesel')\n",
      "('ritz', 2014, 5000.0, 'Petrol')\n",
      "('sx4', 2013, 7089.55, 'Diesel')\n",
      "('ciaz', 2017, 10820.9, 'Petrol')\n",
      "('wagon r', 2011, 4253.73, 'Petrol')\n",
      "('swift', 2014, 6865.67, 'Diesel')\n",
      "('vitara brezza', 2018, 13805.97, 'Diesel')\n",
      "('ciaz', 2015, 10074.63, 'Petrol')\n",
      "('s cross', 2015, 9701.49, 'Diesel')\n",
      "('ciaz', 2016, 13059.7, 'Diesel')\n",
      "('ciaz', 2015, 11119.4, 'Diesel')\n",
      "('alto 800', 2017, 4253.73, 'Petrol')\n",
      "('ciaz', 2015, 10223.88, 'Diesel')\n",
      "('ciaz', 2015, 11194.03, 'Petrol')\n",
      "('ertiga', 2015, 9104.48, 'Petrol')\n",
      "('dzire', 2009, 3358.21, 'Petrol')\n",
      "('ertiga', 2016, 11567.16, 'Diesel')\n",
      "('ertiga', 2015, 10820.9, 'Diesel')\n",
      "('ertiga', 2016, 11567.16, 'Diesel')\n",
      "('wagon r', 2015, 4850.75, 'CNG')\n",
      "('sx4', 2010, 3955.22, 'Petrol')\n",
      "('alto k10', 2016, 4253.73, 'Petrol')\n",
      "('ignis', 2017, 7313.43, 'Petrol')\n",
      "('sx4', 2011, 6567.16, 'Petrol')\n",
      "('alto k10', 2014, 3731.34, 'Petrol')\n",
      "('wagon r', 2013, 4328.36, 'Petrol')\n",
      "('swift', 2011, 4477.61, 'Petrol')\n",
      "('swift', 2013, 6194.03, 'Petrol')\n",
      "('swift', 2017, 8955.22, 'Petrol')\n",
      "('alto k10', 2010, 2910.45, 'Petrol')\n",
      "('ciaz', 2015, 11119.4, 'Diesel')\n",
      "('ritz', 2012, 4626.87, 'Diesel')\n",
      "('ritz', 2011, 3507.46, 'Petrol')\n",
      "('swift', 2014, 7388.06, 'Diesel')\n",
      "('ertiga', 2014, 8955.22, 'Diesel')\n",
      "('dzire', 2014, 8208.96, 'Diesel')\n",
      "('sx4', 2011, 4402.99, 'CNG')\n",
      "('dzire', 2015, 6940.3, 'Petrol')\n",
      "('800', 2003, 522.39, 'Petrol')\n",
      "('alto k10', 2016, 4477.61, 'Petrol')\n",
      "('sx4', 2003, 3358.21, 'Petrol')\n",
      "('baleno', 2016, 8731.34, 'Petrol')\n",
      "('alto k10', 2014, 3805.97, 'Petrol')\n",
      "('sx4', 2008, 2910.45, 'Petrol')\n",
      "('dzire', 2014, 8208.96, 'Diesel')\n",
      "('omni', 2012, 1865.67, 'Petrol')\n",
      "('ciaz', 2014, 11194.03, 'Petrol')\n",
      "('ritz', 2013, 3955.22, 'Petrol')\n",
      "('wagon r', 2006, 1567.16, 'Petrol')\n",
      "('ertiga', 2015, 8656.72, 'Petrol')\n",
      "('ciaz', 2017, 11567.16, 'Petrol')\n",
      "('fortuner', 2012, 22238.81, 'Diesel')\n",
      "('fortuner', 2015, 34328.36, 'Diesel')\n",
      "('innova', 2017, 26865.67, 'Diesel')\n",
      "('fortuner', 2013, 23880.6, 'Diesel')\n",
      "('innova', 2005, 4104.48, 'Petrol')\n",
      "('corolla altis', 2009, 5373.13, 'Petrol')\n",
      "('etios cross', 2015, 6716.42, 'Petrol')\n",
      "('corolla altis', 2010, 7089.55, 'Petrol')\n",
      "('etios g', 2014, 6119.4, 'Petrol')\n",
      "('fortuner', 2014, 29835.82, 'Diesel')\n",
      "('corolla altis', 2013, 10373.13, 'Petrol')\n",
      "('etios liva', 2014, 5895.52, 'Diesel')\n",
      "('corolla altis', 2016, 21985.07, 'Diesel')\n"
     ]
    }
   ],
   "source": [
    "# Execute query\n",
    "sql = \"SELECT * FROM dealership_data.dealership\"\n",
    "cursor.execute(sql)\n",
    "# Fetch all the records\n",
    "result = cursor.fetchall()\n",
    "for i in result:\n",
    "    print(i)"
   ]
  },
  {
   "cell_type": "code",
   "execution_count": 9,
   "id": "faac0868",
   "metadata": {},
   "outputs": [
    {
     "name": "stdout",
     "output_type": "stream",
     "text": [
      "Table is created\n"
     ]
    }
   ],
   "source": [
    "try:\n",
    "    conn = msql.connect(host='localhost', user='root', password='', database='dealership_data')#give ur username, password\n",
    "    if conn.is_connected():\n",
    "        cursor = conn.cursor()\n",
    "        cursor.execute(\"CREATE TABLE dealerships(car_model varchar(255), year_of_manufacture int(4), price float(30), fuel varchar(255))\")\n",
    "        print(\"Table is created\")\n",
    "except Error as e:\n",
    "    print(\"Error while connecting to MySQL\", e)"
   ]
  },
  {
   "cell_type": "code",
   "execution_count": 10,
   "id": "aecd9e12",
   "metadata": {},
   "outputs": [
    {
     "name": "stdout",
     "output_type": "stream",
     "text": [
      "Record inserted\n",
      "Record inserted\n",
      "Record inserted\n",
      "Record inserted\n",
      "Record inserted\n",
      "Record inserted\n",
      "Record inserted\n",
      "Record inserted\n",
      "Record inserted\n",
      "Record inserted\n",
      "Record inserted\n",
      "Record inserted\n",
      "Record inserted\n",
      "Record inserted\n",
      "Record inserted\n",
      "Record inserted\n",
      "Record inserted\n",
      "Record inserted\n",
      "Record inserted\n",
      "Record inserted\n",
      "Record inserted\n",
      "Record inserted\n",
      "Record inserted\n",
      "Record inserted\n",
      "Record inserted\n",
      "Record inserted\n",
      "Record inserted\n",
      "Record inserted\n",
      "Record inserted\n",
      "Record inserted\n",
      "Record inserted\n",
      "Record inserted\n",
      "Record inserted\n",
      "Record inserted\n",
      "Record inserted\n",
      "Record inserted\n",
      "Record inserted\n",
      "Record inserted\n",
      "Record inserted\n",
      "Record inserted\n",
      "Record inserted\n",
      "Record inserted\n",
      "Record inserted\n",
      "Record inserted\n",
      "Record inserted\n",
      "Record inserted\n",
      "Record inserted\n",
      "Record inserted\n",
      "Record inserted\n",
      "Record inserted\n",
      "Record inserted\n",
      "Record inserted\n",
      "Record inserted\n",
      "Record inserted\n",
      "Record inserted\n",
      "Record inserted\n",
      "Record inserted\n",
      "Record inserted\n",
      "Record inserted\n",
      "Record inserted\n",
      "Record inserted\n",
      "Record inserted\n",
      "Record inserted\n"
     ]
    }
   ],
   "source": [
    "try:\n",
    "    conn = msql.connect(host='localhost', database='dealership_data', user='root', password='')\n",
    "    if conn.is_connected():\n",
    "        cursor = conn.cursor()\n",
    "        for i,row in dealership_data.iterrows():\n",
    "            #here %S means string values \n",
    "            sql = \"INSERT INTO dealership_data.dealerships VALUES (%s,%s,%s,%s)\"\n",
    "            cursor.execute(sql, tuple(row))\n",
    "            print(\"Record inserted\")\n",
    "            # the connection is not auto committed by default, so we must commit to save our changes\n",
    "            conn.commit()\n",
    "except Error as e:\n",
    "            print(\"Error while connecting to MySQL\", e)"
   ]
  },
  {
   "cell_type": "code",
   "execution_count": null,
   "id": "3b5f3727",
   "metadata": {},
   "outputs": [],
   "source": []
  }
 ],
 "metadata": {
  "kernelspec": {
   "display_name": "Python 3 (ipykernel)",
   "language": "python",
   "name": "python3"
  },
  "language_info": {
   "codemirror_mode": {
    "name": "ipython",
    "version": 3
   },
   "file_extension": ".py",
   "mimetype": "text/x-python",
   "name": "python",
   "nbconvert_exporter": "python",
   "pygments_lexer": "ipython3",
   "version": "3.9.7"
  }
 },
 "nbformat": 4,
 "nbformat_minor": 5
}
